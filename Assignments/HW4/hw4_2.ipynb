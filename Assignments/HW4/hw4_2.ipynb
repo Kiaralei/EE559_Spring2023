{
 "cells": [
  {
   "cell_type": "code",
   "execution_count": 1,
   "id": "b9ce7021",
   "metadata": {},
   "outputs": [],
   "source": [
    "import numpy as np\n",
    "import random as rm\n",
    "import pandas as pd\n",
    "import sys\n",
    "from sklearn import preprocessing\n",
    "# from sklearn.preprocessing import StandardScaler\n",
    "from sklearn.metrics import confusion_matrix, ConfusionMatrixDisplay\n",
    "import matplotlib.pyplot as plt"
   ]
  },
  {
   "cell_type": "code",
   "execution_count": 2,
   "id": "d830b91a",
   "metadata": {},
   "outputs": [],
   "source": [
    "def getdata(fname):\n",
    "    data = pd.read_csv(fname)\n",
    "    xdata = data.drop(\"Class\", axis=1)\n",
    "    ydata = data['Class']\n",
    "    return xdata, ydata"
   ]
  },
  {
   "cell_type": "code",
   "execution_count": 3,
   "id": "c75a7817",
   "metadata": {},
   "outputs": [],
   "source": [
    "def shuffle(xdata, ydata):\n",
    "    newX = np.copy(xdata)\n",
    "    newY = np.copy(ydata)\n",
    "    N = len(newX)\n",
    "    shuff = np.random.permutation(N)\n",
    "    for i in range(N):\n",
    "        newX[i] = xdata[shuff[i]]\n",
    "        newY[i] = ydata[shuff[i]]\n",
    "    return (newX, newY)"
   ]
  },
  {
   "cell_type": "code",
   "execution_count": 4,
   "id": "9b056d01",
   "metadata": {},
   "outputs": [],
   "source": [
    "xdata_train, ydata_train = getdata('Dry_Bean_train.csv')\n",
    "xdata_test, ydata_test = getdata('Dry_Bean_test.csv')\n",
    "# print(xdata_train)\n",
    "\n",
    "## preprocessing\n",
    "# Convert Class String labels into Integers\n",
    "lab_enc = preprocessing.LabelEncoder()\n",
    "ydata_train = lab_enc.fit_transform(ydata_train)\n",
    "ydata_test = lab_enc.transform(ydata_test)\n",
    "\n",
    "# Standarlize\n",
    "scaler_train = preprocessing.StandardScaler().fit(xdata_train)\n",
    "# scaler_test = preprocessing.StandardScaler().fit(xdata_test)\n",
    "\n",
    "xdata_train_scaled = scaler_train.transform(xdata_train)\n",
    "xdata_test_scaled = scaler_train.transform(xdata_test)"
   ]
  },
  {
   "cell_type": "code",
   "execution_count": 109,
   "id": "a72cef35",
   "metadata": {},
   "outputs": [],
   "source": [
    "def perceptronLearning(data, label, w0, eta = 1, maxEpochs = 100):\n",
    "    \"\"\"\n",
    "    data: (N, D + 1) data array, non-augmented format with labels(1.0, 2.0)\n",
    "    eta: learning rate (constant)\n",
    "    w0: 1 * \n",
    "    maxEpochs: max number of passes through the data.  Halts if reach the max epoch\n",
    "    \"\"\"\n",
    "    \n",
    "    N, D = data.shape\n",
    "    wHat = np.copy(w0) # D + 1 * 1\n",
    "#     print(wHat.shape)\n",
    "#     print(zData)\n",
    "#     wHats = np.zeros((maxIter + 1, D + 1))\n",
    "    \n",
    "    \n",
    "    minJ = sys.float_info.max\n",
    "    finalWHat = np.copy(w0)\n",
    "    i1 = False\n",
    "    \n",
    "    \n",
    "    for m in range(1, maxEpochs + 1):\n",
    "        # 1. shuffle and preprocessing\n",
    "        shuffledData, shuffledLabel = shuffle(data,label)\n",
    "#         print(shuffledLabel)\n",
    "#         break\n",
    "        \n",
    "        # 2. Augment and reflected\n",
    "#         z = (-1.0) ** (shuffledLabel + 1)\n",
    "        z = shuffledLabel\n",
    "        dataAug = np.ones((N, D + 1))\n",
    "        dataAug[:, 1:] = shuffledData\n",
    "        zData = (dataAug.T * z).T            \n",
    "        J_iter = 0\n",
    "        correctClass = 0\n",
    "        \n",
    "#         for n in range(1, N + 1):\n",
    "        for n in range(0, N):\n",
    "            condition = np.dot(wHat ,zData[n])\n",
    "#             print(\"condition\", condition)\n",
    "            index = (m - 1) * N + n\n",
    "            \n",
    "            # compute new J(w) and misclassfication\n",
    "            J_iter = 0\n",
    "            correctClass = 0\n",
    "#             for i in range(0, N):\n",
    "#                 gx = np.dot(wHat ,zData[i])\n",
    "#                 if gx <= 0:\n",
    "#                     J_iter -= gx\n",
    "#                 else:\n",
    "#                     correctClass += 1   \n",
    "            gx_matrix = np.dot(wHat, zData.T)\n",
    "#             print(J_iter.shape)\n",
    "            gx_matrix = gx_matrix * -1\n",
    "            loss = np.sum(gx_matrix > 0)\n",
    "#             print(\"loss\",loss)\n",
    "    \n",
    "        \n",
    "            \n",
    "            \n",
    "            if(m == maxEpochs and N - n <= 100 and loss < minJ ):\n",
    "                minJ = loss\n",
    "                finalWHat = np.copy(wHat)\n",
    "            \n",
    "            if(condition <= 0):\n",
    "                wHat = wHat + eta * zData[n]\n",
    "        \n",
    "        if minJ == 0:\n",
    "            print(\"i1 reach. Data is linearly separable\")\n",
    "            i1 = True\n",
    "            break\n",
    "    if(not i1):\n",
    "        print(\"i2 reach.\")\n",
    "    print(\"Weight matrix is:\" , finalWHat)\n",
    "    print(\"Min J is:\" , minJ)\n",
    "#     print(\"Misclassification rate is :\", misEpoch[-1])\n",
    "\n",
    "    return finalWHat"
   ]
  },
  {
   "cell_type": "code",
   "execution_count": 36,
   "id": "1241a2f5",
   "metadata": {},
   "outputs": [],
   "source": [
    "def change_label(ydata, c_num):\n",
    "    N = len(ydata)\n",
    "    changed_label = np.copy(ydata)\n",
    "    for i in range(N):\n",
    "        if(ydata[i] == c_num):\n",
    "            changed_label[i] = 1\n",
    "        else:\n",
    "            changed_label[i] = -1\n",
    "    return changed_label"
   ]
  },
  {
   "cell_type": "code",
   "execution_count": 101,
   "id": "29402250",
   "metadata": {},
   "outputs": [],
   "source": [
    "def plot_hist(data, label, weight):\n",
    "    \"\"\"\n",
    "    data : N * D non augment\n",
    "    label : N * 1 label vector\n",
    "    weight : 1 * D + 1 augment weight\n",
    "    \"\"\"\n",
    "    N, D = data.shape\n",
    "    data_aug = np.ones((N, D + 1))\n",
    "    data_aug[:, 1:] = data\n",
    "    class1 = []\n",
    "    class2 = []\n",
    "    for i in range(N):\n",
    "        gx = weight @ data_aug[i]\n",
    "#         print(gx)\n",
    "        if(label[i] > 0):\n",
    "            class1.append(gx)\n",
    "        else:\n",
    "#             print(gx)\n",
    "            class2.append(gx)\n",
    "    \n",
    "    plt.hist(class1,bins = 100, alpha=0.3)\n",
    "    plt.hist(class2,bins = 100, alpha = 0.3)\n",
    "    plt.legend(('class k', 'class j != k'), loc=2)\n",
    "    plt.show()\n",
    "        \n",
    "    "
   ]
  },
  {
   "cell_type": "code",
   "execution_count": 127,
   "id": "0d1d042b",
   "metadata": {},
   "outputs": [],
   "source": [
    "def main(xdata_train, ydata_train, xdata_test, ydata_test ):\n",
    "    N, D = xdata_train.shape\n",
    "    weights = np.zeros((7, D + 1))\n",
    "    weight = np.ones(D + 1)\n",
    "    for c in range(7):\n",
    "        label_train = change_label(ydata_train, c)\n",
    "        label_test = change_label(ydata_test, c)\n",
    "        \n",
    "        weights[c] = np.copy(perceptronLearning(xdata_train, label_train ,weight))\n",
    "        \n",
    "        print(\"Accuracy for training data is:\", test(xdata_train, label_train, weights[c]), \"%\")\n",
    "        print(\"Accuracy for testing data is:\", test(xdata_test, label_test, weights[c]), \"%\")\n",
    "        \n",
    "        plot_hist(xdata_test, label_test, weights[c] )\n",
    "        print(\"\\n\")\n",
    "    return weights\n",
    "        "
   ]
  },
  {
   "cell_type": "code",
   "execution_count": 117,
   "id": "240e02d4",
   "metadata": {},
   "outputs": [],
   "source": [
    "def test(data, label, wHat):\n",
    "    '''\n",
    "    data: data is a matrix with dimension: num of data points * num features\n",
    "    '''\n",
    "    N, D = data.shape\n",
    "    z = label\n",
    "    wHat = np.copy(wHat)\n",
    "    dataAug = np.ones((N, D + 1))\n",
    "    dataAug[:, 1:] = data\n",
    "    zData = (dataAug.T * z).T\n",
    "\n",
    "    count = 0\n",
    "    for i in range(N):\n",
    "        if np.dot(wHat ,zData[i]) > 0:\n",
    "            count += 1\n",
    "#     print(\"Accuracy rate: \", (count) / N * 100 , \"%\")    \n",
    "    return (count) / N * 100 "
   ]
  },
  {
   "cell_type": "code",
   "execution_count": 128,
   "id": "f85f9a62",
   "metadata": {
    "scrolled": false
   },
   "outputs": [
    {
     "name": "stdout",
     "output_type": "stream",
     "text": [
      "i2 reach.\n",
      "Weight matrix is: [-36.         -28.60087316  54.73154488 -28.1266936  -14.98698367\n",
      " -49.62951441 -21.90425284 -15.73967196 -21.68719729   2.1055915\n",
      "  -4.79083549  -1.15495649  -8.08200612 -21.48593591 -72.43551164\n",
      " -22.73420473  13.20265585]\n",
      "Min J is: 186\n",
      "Accuracy for training data is: 98.48150869458732 %\n",
      "Accuracy for testing data is: 98.09104258443465 %\n"
     ]
    },
    {
     "data": {
      "image/png": "[encoded data removed]",
      "text/plain": [
       "<Figure size 640x480 with 1 Axes>"
      ]
     },
     "metadata": {},
     "output_type": "display_data"
    },
    {
     "name": "stdout",
     "output_type": "stream",
     "text": [
      "\n",
      "\n",
      "i1 reach. Data is linearly separable\n",
      "Weight matrix is: [-28.           8.44727203   1.66088407   0.81776488   3.3682316\n",
      "  -2.63667497   2.79285994   8.45797429   2.22162419   1.74867361\n",
      "   2.05566716   4.02851812   2.87062772   8.63314079   4.27164211\n",
      "   2.15745894   2.73616084]\n",
      "Min J is: 0\n",
      "Accuracy for training data is: 100.0 %\n",
      "Accuracy for testing data is: 99.92657856093979 %\n"
     ]
    },
    {
     "data": {
      "image/png": "[encoded data removed]",
      "text/plain": [
       "<Figure size 640x480 with 1 Axes>"
      ]
     },
     "metadata": {},
     "output_type": "display_data"
    },
    {
     "name": "stdout",
     "output_type": "stream",
     "text": [
      "\n",
      "\n",
      "i2 reach.\n",
      "Weight matrix is: [ -49.          -30.65660599  -31.85917368   69.815186    -77.37273476\n",
      "  -67.3783354    28.80888287   -9.09333362   -4.83854503    0.81856057\n",
      "   -3.2413633    13.70298145  -35.74025225 -140.06376002   68.47276459\n",
      "  -65.31643919   -3.88222522]\n",
      "Min J is: 285\n",
      "Accuracy for training data is: 97.67327945138379 %\n",
      "Accuracy for testing data is: 98.16446402349486 %\n"
     ]
    },
    {
     "data": {
      "image/png": "[encoded data removed]",
      "text/plain": [
       "<Figure size 640x480 with 1 Axes>"
      ]
     },
     "metadata": {},
     "output_type": "display_data"
    },
    {
     "name": "stdout",
     "output_type": "stream",
     "text": [
      "\n",
      "\n",
      "i2 reach.\n",
      "Weight matrix is: [-1.60000000e+01 -4.95161341e+00  1.92317028e+01 -7.08014034e+00\n",
      "  1.12832912e+01  2.45856703e-02  5.87694159e+01 -1.30612487e+01\n",
      "  3.73229927e+00 -2.81903386e+00  1.86703210e+00  6.00631650e+00\n",
      "  2.25374026e+01  1.18678333e+01  2.64575279e+01  1.10847086e+01\n",
      "  1.31197165e+00]\n",
      "Min J is: 592\n",
      "Accuracy for training data is: 95.16695240427791 %\n",
      "Accuracy for testing data is: 94.27312775330397 %\n"
     ]
    },
    {
     "data": {
      "image/png": "[encoded data removed]",
      "text/plain": [
       "<Figure size 640x480 with 1 Axes>"
      ]
     },
     "metadata": {},
     "output_type": "display_data"
    },
    {
     "name": "stdout",
     "output_type": "stream",
     "text": [
      "\n",
      "\n",
      "i2 reach.\n",
      "Weight matrix is: [-36.         -45.50515993   9.49695167   1.83255746 -10.75525762\n",
      "  69.73096833   9.81141473 -47.66518436 -12.75444641   0.64219741\n",
      "   3.69507221  -3.18176461  11.31827127 -48.10524125   0.85186481\n",
      "  27.54056961  -6.12319121]\n",
      "Min J is: 220\n",
      "Accuracy for training data is: 98.20393501510327 %\n",
      "Accuracy for testing data is: 98.38472834067548 %\n"
     ]
    },
    {
     "data": {
      "image/png": "[encoded data removed]",
      "text/plain": [
       "<Figure size 640x480 with 1 Axes>"
      ]
     },
     "metadata": {},
     "output_type": "display_data"
    },
    {
     "name": "stdout",
     "output_type": "stream",
     "text": [
      "\n",
      "\n",
      "i2 reach.\n",
      "Weight matrix is: [ -34.          -29.33074247  -26.20480651   16.98748079  -49.9632721\n",
      "   -6.51176292  -22.29610256  -35.63303252   -5.39689601   -2.64479815\n",
      "   -0.52265602    1.0786598   -26.26811941 -103.93958625   26.43716586\n",
      "  -27.07839638   -0.18875012]\n",
      "Min J is: 265\n",
      "Accuracy for training data is: 97.83655808637441 %\n",
      "Accuracy for testing data is: 97.79735682819384 %\n"
     ]
    },
    {
     "data": {
      "image/png": "[encoded data removed]",
      "text/plain": [
       "<Figure size 640x480 with 1 Axes>"
      ]
     },
     "metadata": {},
     "output_type": "display_data"
    },
    {
     "name": "stdout",
     "output_type": "stream",
     "text": [
      "\n",
      "\n",
      "i2 reach.\n",
      "Weight matrix is: [ -28.           11.56025143 -180.07677194   13.84223432   -4.35203167\n",
      "  -39.61881869  -14.80187212  -15.87783617   27.98203347    1.05487084\n",
      "    0.46028178  -25.72585778  -23.09950017  -87.93645621  -11.45523474\n",
      "  -58.81522415    0.2653616 ]\n",
      "Min J is: 752\n",
      "Accuracy for training data is: 93.86072332435302 %\n",
      "Accuracy for testing data is: 93.3186490455213 %\n"
     ]
    },
    {
     "data": {
      "image/png": "[encoded data removed]",
      "text/plain": [
       "<Figure size 640x480 with 1 Axes>"
      ]
     },
     "metadata": {},
     "output_type": "display_data"
    },
    {
     "name": "stdout",
     "output_type": "stream",
     "text": [
      "\n",
      "\n"
     ]
    }
   ],
   "source": [
    "weights = main(xdata_train_scaled, ydata_train, xdata_test_scaled, ydata_test)"
   ]
  },
  {
   "cell_type": "code",
   "execution_count": 119,
   "id": "261e74e2",
   "metadata": {},
   "outputs": [],
   "source": [
    "def decision_rule_1(xdata, ydata, weights):\n",
    "    \"\"\"\n",
    "    weights : C * D + 1 augment weights matrix\n",
    "    xdata : N * D non-augment data matrix\n",
    "    ydata : N * 1 label vector\n",
    "    \"\"\"\n",
    "    N , D = xdata.shape\n",
    "    C = 7\n",
    "    mis = 0\n",
    "    unclassify = 0\n",
    "    correct = 0\n",
    "    \n",
    "    xdata_aug = np.ones((N, D + 1))\n",
    "    xdata_aug[:, 1:] = xdata\n",
    "    \n",
    "    for i in range(N):\n",
    "        gx = weights @ xdata_aug[i]\n",
    "#         print(gx)\n",
    "        target = ydata[i]\n",
    "#         print(target)\n",
    "        \n",
    "        filter_bool = gx > 0\n",
    "        filter_gx = gx[filter_bool]\n",
    "        l_fil = len(filter_gx)\n",
    "        if(l_fil > 1 or l_fil == 0):\n",
    "            unclassify += 1\n",
    "        else:\n",
    "            if(target != np.where(gx == filter_gx[0])[0][0]):\n",
    "                mis += 1\n",
    "            else:\n",
    "                correct += 1\n",
    "                \n",
    "    print(\"The accuracy rate is :\", correct / N * 100, \"%\")\n",
    "    print(\"The error rate is :\", mis / N * 100, \"%\")\n",
    "    print(\"The unclassified rate is :\", unclassify / N * 100, \"%\")"
   ]
  },
  {
   "cell_type": "code",
   "execution_count": 129,
   "id": "a4eb4615",
   "metadata": {},
   "outputs": [
    {
     "name": "stdout",
     "output_type": "stream",
     "text": [
      "Classify the training data using decision rule 1:\n",
      "The accuracy rate is : 86.71728304351376 %\n",
      "The error rate is : 5.208588456200506 %\n",
      "The unclassified rate is : 8.074128500285738 %\n",
      "\n",
      "\n",
      "Classify the testing data using decision rule 1:\n",
      "The accuracy rate is : 86.04992657856094 %\n",
      "The error rate is : 6.093979441997063 %\n",
      "The unclassified rate is : 7.856093979441997 %\n"
     ]
    }
   ],
   "source": [
    "print(\"Classify the training data using decision rule 1:\")\n",
    "decision_rule_1(xdata_train_scaled, ydata_train, weights)\n",
    "print(\"\\n\")\n",
    "print(\"Classify the testing data using decision rule 1:\")\n",
    "decision_rule_1(xdata_test_scaled, ydata_test, weights)"
   ]
  },
  {
   "cell_type": "code",
   "execution_count": 121,
   "id": "310bc321",
   "metadata": {},
   "outputs": [],
   "source": [
    "def decision_rule_2(xdata, ydata, weights):\n",
    "    \"\"\"\n",
    "    weights : C * D + 1 augment weights matrix\n",
    "    xdata : N * D non-augment data matrix\n",
    "    ydata : N * 1 label vector\n",
    "    \"\"\"\n",
    "    N , D = xdata.shape\n",
    "    C = 7\n",
    "    mis = 0\n",
    "    unclassify = 0\n",
    "    correct = 0\n",
    "    \n",
    "    xdata_aug = np.ones((N, D + 1))\n",
    "    xdata_aug[:, 1:] = xdata\n",
    "    \n",
    "    for i in range(N):\n",
    "        gx = weights @ xdata_aug[i]\n",
    "#         print(gx)\n",
    "        target = ydata[i]\n",
    "#         print(target)\n",
    "        \n",
    "        if( np.argmax(gx) != target ):\n",
    "            mis += 1\n",
    "        else:\n",
    "            correct += 1\n",
    "            \n",
    "    print(\"The accuracy rate is :\", correct / N * 100, \"%\")\n",
    "    print(\"The error rate is :\", mis / N * 100, \"%\")\n",
    "    print(\"The unclassified rate is :\", unclassify / N * 100, \"%\")\n",
    "  "
   ]
  },
  {
   "cell_type": "code",
   "execution_count": 130,
   "id": "0d9025ef",
   "metadata": {},
   "outputs": [
    {
     "name": "stdout",
     "output_type": "stream",
     "text": [
      "Classify the training data using decision rule 2:\n",
      "The accuracy rate is : 91.26459302800228 %\n",
      "The error rate is : 8.735406971997714 %\n",
      "The unclassified rate is : 0.0 %\n",
      "\n",
      "\n",
      "Classify the testing data using decision rule 2:\n",
      "The accuracy rate is : 90.30837004405286 %\n",
      "The error rate is : 9.691629955947137 %\n",
      "The unclassified rate is : 0.0 %\n"
     ]
    }
   ],
   "source": [
    "print(\"Classify the training data using decision rule 2:\")\n",
    "decision_rule_2(xdata_train_scaled, ydata_train, weights)\n",
    "print(\"\\n\")\n",
    "print(\"Classify the testing data using decision rule 2:\")\n",
    "decision_rule_2(xdata_test_scaled, ydata_test, weights)"
   ]
  },
  {
   "cell_type": "code",
   "execution_count": 123,
   "id": "7a641240",
   "metadata": {},
   "outputs": [],
   "source": [
    "def decision_rule_3(xdata, ydata, weights):\n",
    "    \"\"\"\n",
    "    weights : C * D + 1 augment weights matrix\n",
    "    xdata : N * D non-augment data matrix\n",
    "    ydata : N * 1 label vector\n",
    "    \"\"\"\n",
    "    N , D = xdata.shape\n",
    "    C = 7\n",
    "    mis = 0\n",
    "    unclassify = 0\n",
    "    correct = 0\n",
    "    \n",
    "    xdata_aug = np.ones((N, D + 1))\n",
    "    xdata_aug[:, 1:] = xdata\n",
    "    \n",
    "    for i in range(N):\n",
    "        gx = weights @ xdata_aug[i] # C * 1 vector\n",
    "        \n",
    "        weights_nonaug = weights[:,1:] # C * D\n",
    "        weight_norm = np.linalg.norm(weights_nonaug, axis = 1)\n",
    "        \n",
    "        gkx = gx / weight_norm\n",
    "        \n",
    "        target = ydata[i]\n",
    "#         print(target)\n",
    "        \n",
    "        if( np.argmax(gkx) != target ):\n",
    "            mis += 1\n",
    "        else:\n",
    "            correct += 1\n",
    "            \n",
    "    print(\"The accuracy rate is :\", correct / N * 100, \"%\")\n",
    "    print(\"The error rate is :\", mis / N * 100, \"%\")\n",
    "    print(\"The unclassified rate is :\", unclassify / N * 100, \"%\")\n"
   ]
  },
  {
   "cell_type": "code",
   "execution_count": 131,
   "id": "c650d02b",
   "metadata": {},
   "outputs": [
    {
     "name": "stdout",
     "output_type": "stream",
     "text": [
      "Classify the training data using decision rule 3:\n",
      "The accuracy rate is : 91.11764225651073 %\n",
      "The error rate is : 8.882357743489266 %\n",
      "The unclassified rate is : 0.0 %\n",
      "\n",
      "\n",
      "Classify the testing data using decision rule 3:\n",
      "The accuracy rate is : 90.08810572687224 %\n",
      "The error rate is : 9.911894273127754 %\n",
      "The unclassified rate is : 0.0 %\n"
     ]
    }
   ],
   "source": [
    "print(\"Classify the training data using decision rule 3:\")\n",
    "decision_rule_3(xdata_train_scaled, ydata_train, weights)\n",
    "print(\"\\n\")\n",
    "print(\"Classify the testing data using decision rule 3:\")\n",
    "decision_rule_3(xdata_test_scaled, ydata_test, weights)"
   ]
  },
  {
   "cell_type": "code",
   "execution_count": null,
   "id": "1582d28a",
   "metadata": {},
   "outputs": [],
   "source": []
  }
 ],
 "metadata": {
  "kernelspec": {
   "display_name": "Python 3 (ipykernel)",
   "language": "python",
   "name": "python3"
  },
  "language_info": {
   "codemirror_mode": {
    "name": "ipython",
    "version": 3
   },
   "file_extension": ".py",
   "mimetype": "text/x-python",
   "name": "python",
   "nbconvert_exporter": "python",
   "pygments_lexer": "ipython3",
   "version": "3.9.13"
  }
 },
 "nbformat": 4,
 "nbformat_minor": 5
}
