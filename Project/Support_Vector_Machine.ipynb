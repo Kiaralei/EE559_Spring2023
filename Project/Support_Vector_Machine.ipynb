{
 "cells": [
  {
   "cell_type": "markdown",
   "id": "ded7f567",
   "metadata": {},
   "source": [
    "# Support Vector Machine\n",
    "\n",
    "Support vector system\n",
    "\n",
    "Report required performance measures\n",
    "\n",
    "• F1-score \n",
    "• Accuracy\n",
    "\n",
    "## Import necessary library"
   ]
  },
  {
   "cell_type": "code",
   "execution_count": 18,
   "id": "6e5c6cd6",
   "metadata": {},
   "outputs": [],
   "source": [
    "import numpy as np\n",
    "import pandas as pd\n",
    "import matplotlib.pyplot as plt\n",
    "from sklearn.metrics import confusion_matrix, f1_score\n",
    "from sklearn import preprocessing\n",
    "from sklearn.preprocessing import StandardScaler\n",
    "import seaborn as sns\n",
    "from sklearn.svm import SVC\n",
    "from sklearn.model_selection import train_test_split\n",
    "import seaborn as sns"
   ]
  },
  {
   "cell_type": "code",
   "execution_count": 19,
   "id": "0c412933",
   "metadata": {},
   "outputs": [
    {
     "name": "stdout",
     "output_type": "stream",
     "text": [
      "The shape of training xdata shape is (42748, 32)\n",
      "The shape of training ydata shape is (42748,)\n",
      "The shape of testing xdata shape is (18321, 32)\n",
      "The shape of testing ydata shape is (18321,)\n"
     ]
    }
   ],
   "source": [
    "def getData(fname1, fname2):\n",
    "    df_train = pd.read_csv(fname1)\n",
    "    df_test = pd.read_csv(fname2)\n",
    "    data_train = np.array(df_train)\n",
    "    data_test = np.array(df_test)\n",
    "    xdata_train = data_train[:,:len(data_train[0]) - 1]\n",
    "    ydata_train = data_train[:, -1]\n",
    "    xdata_test = data_test[:,:len(data_test[0]) - 1]\n",
    "    ydata_test = data_test[:, -1]\n",
    "    \n",
    "    return xdata_train, ydata_train, xdata_test, ydata_test\n",
    "    \n",
    "xdata_train_select, ydata_train_select, xdata_test_select, ydata_test_select = getData(\"mushroom_train_select.csv\", \"mushroom_test_select.csv\")\n",
    "\n",
    "print(f\"The shape of training xdata shape is\", xdata_train_select.shape)\n",
    "print(f\"The shape of training ydata shape is\", ydata_train_select.shape)\n",
    "print(f\"The shape of testing xdata shape is\", xdata_test_select.shape)\n",
    "print(f\"The shape of testing ydata shape is\", ydata_test_select.shape)"
   ]
  },
  {
   "cell_type": "markdown",
   "id": "f5327eee",
   "metadata": {},
   "source": [
    "## Linear kernel\n",
    "To start experiment on the SVM model, we have to choose the kernel and the C value. I decided to use linear kernel first and using a small value c to see how is the performance."
   ]
  },
  {
   "cell_type": "code",
   "execution_count": 20,
   "id": "f0e63c23",
   "metadata": {},
   "outputs": [],
   "source": [
    "def SVM_linear(xdata_train_select, ydata_train_select, c):\n",
    "    \n",
    "    # Copy in case of overwrite\n",
    "    xdata_train = np.copy(xdata_train_select)    \n",
    "    ydata_train = np.copy(ydata_train_select)\n",
    "    \n",
    "    # Shuffle data\n",
    "    p = np.random.permutation(xdata_train.shape[0])\n",
    "    xdata_train = xdata_train[p]\n",
    "    ydata_train = ydata_train[p]\n",
    "    \n",
    "    # Split data into training and validatioin\n",
    "    xdata_train, xdata_val, ydata_train, ydata_val = train_test_split(xdata_train, ydata_train, test_size=0.2, random_state=42)\n",
    "    \n",
    "    # Normalize dataset\n",
    "    # Create scaler object and fit to data\n",
    "    scaler = StandardScaler()\n",
    "    scaler.fit(xdata_train)\n",
    "    \n",
    "    # Apply scaler to data\n",
    "    xdata_train = scaler.transform(xdata_train)\n",
    "    xdata_val = scaler.transform(xdata_val)\n",
    "    \n",
    "    model = SVC(C = c, kernel='linear')\n",
    "    model.fit(xdata_train, ydata_train)\n",
    "    \n",
    "    train_acc = model.score(xdata_train, ydata_train)\n",
    "    val_acc = model.score(xdata_val, ydata_val)\n",
    "    \n",
    "    train_score = f1_score(model.predict(xdata_train), ydata_train)\n",
    "    val_score = f1_score(model.predict(xdata_val), ydata_val)\n",
    "    print('Training accuracy = {}, validatioin accuracy = {}'.format(train_acc, val_acc)) \n",
    "    print('Training f1 score = {}, validatioin f1 score = {}'.format(train_score, val_score)) "
   ]
  },
  {
   "cell_type": "code",
   "execution_count": 21,
   "id": "1ac4f90d",
   "metadata": {},
   "outputs": [
    {
     "name": "stdout",
     "output_type": "stream",
     "text": [
      "Training accuracy = 0.7300719340312299, validatioin accuracy = 0.723391812865497\n",
      "Training f1 score = 0.7589124813915223, validatioin f1 score = 0.7530541923358045\n"
     ]
    }
   ],
   "source": [
    "SVM_linear(xdata_train_select, ydata_train_select, 0.01)"
   ]
  },
  {
   "cell_type": "code",
   "execution_count": 22,
   "id": "4229f109",
   "metadata": {},
   "outputs": [
    {
     "name": "stdout",
     "output_type": "stream",
     "text": [
      "Training accuracy = 0.7274986841335751, validatioin accuracy = 0.7353216374269006\n",
      "Training f1 score = 0.744705914582363, validatioin f1 score = 0.7502483169628077\n"
     ]
    }
   ],
   "source": [
    "SVM_linear(xdata_train_select, ydata_train_select, 0.1)"
   ]
  },
  {
   "cell_type": "code",
   "execution_count": 23,
   "id": "4527e06b",
   "metadata": {},
   "outputs": [
    {
     "name": "stdout",
     "output_type": "stream",
     "text": [
      "Training accuracy = 0.7299257266506813, validatioin accuracy = 0.7259649122807017\n",
      "Training f1 score = 0.7457748417285989, validatioin f1 score = 0.7377140938094705\n"
     ]
    }
   ],
   "source": [
    "SVM_linear(xdata_train_select, ydata_train_select, 1.0)"
   ]
  },
  {
   "cell_type": "markdown",
   "id": "137c2b48",
   "metadata": {},
   "source": [
    "## Use RBF kernel instead of linear kernel"
   ]
  },
  {
   "cell_type": "code",
   "execution_count": 24,
   "id": "c81a6ff7",
   "metadata": {},
   "outputs": [],
   "source": [
    "def SVM_rbf(xdata_train_select, ydata_train_select, c, gamma):\n",
    "    \n",
    "    # Copy in case of overwrite\n",
    "    xdata_train = np.copy(xdata_train_select)    \n",
    "    ydata_train = np.copy(ydata_train_select)\n",
    "    \n",
    "    # Shuffle data\n",
    "    p = np.random.permutation(xdata_train.shape[0])\n",
    "    xdata_train = xdata_train[p]\n",
    "    ydata_train = ydata_train[p]\n",
    "    \n",
    "    # Split data into training and validatioin\n",
    "    xdata_train, xdata_val, ydata_train, ydata_val = train_test_split(xdata_train, ydata_train, test_size=0.2, random_state=42)\n",
    "    \n",
    "    # Normalize dataset\n",
    "    # Create scaler object and fit to data\n",
    "    scaler = StandardScaler()\n",
    "    scaler.fit(xdata_train)\n",
    "    \n",
    "    # Apply scaler to data\n",
    "    xdata_train = scaler.transform(xdata_train)\n",
    "    xdata_val = scaler.transform(xdata_val)\n",
    "    \n",
    "    model = SVC(C = c, kernel='rbf', gamma = gamma)\n",
    "    model.fit(xdata_train, ydata_train)\n",
    "    \n",
    "    train_acc = model.score(xdata_train, ydata_train)\n",
    "    val_acc = model.score(xdata_val, ydata_val)\n",
    "    \n",
    "    train_score = f1_score(model.predict(xdata_train), ydata_train)\n",
    "    val_score = f1_score(model.predict(xdata_val), ydata_val)\n",
    "    print('Training accuracy = {}, validatioin accuracy = {}'.format(train_acc, val_acc)) \n",
    "    print('Training f1 score = {}, validatioin f1 score = {}'.format(train_score, val_score)) \n",
    "    \n",
    "    \n",
    "    "
   ]
  },
  {
   "cell_type": "code",
   "execution_count": 25,
   "id": "0e65aaab",
   "metadata": {},
   "outputs": [
    {
     "name": "stdout",
     "output_type": "stream",
     "text": [
      "Training accuracy = 0.7499268963097258, validatioin accuracy = 0.7494736842105263\n",
      "Training f1 score = 0.8142726838379013, validatioin f1 score = 0.8155991735537189\n"
     ]
    }
   ],
   "source": [
    "SVM_rbf(xdata_train_select, ydata_train_select, 0.01, 1.0)"
   ]
  },
  {
   "cell_type": "code",
   "execution_count": 26,
   "id": "41cb25ae",
   "metadata": {},
   "outputs": [
    {
     "name": "stdout",
     "output_type": "stream",
     "text": [
      "Training accuracy = 0.6079010468448447, validatioin accuracy = 0.59953216374269\n",
      "Training f1 score = 0.7381412697482767, validatioin f1 score = 0.7328339575530587\n"
     ]
    }
   ],
   "source": [
    "SVM_rbf(xdata_train_select, ydata_train_select, 0.01, 3.0)"
   ]
  },
  {
   "cell_type": "code",
   "execution_count": 27,
   "id": "400f41ce",
   "metadata": {},
   "outputs": [
    {
     "name": "stdout",
     "output_type": "stream",
     "text": [
      "Training accuracy = 0.5513480320486578, validatioin accuracy = 0.5543859649122806\n",
      "Training f1 score = 0.7107986353269371, validatioin f1 score = 0.7133182844243792\n"
     ]
    }
   ],
   "source": [
    "SVM_rbf(xdata_train_select, ydata_train_select, 0.01, 50.0)"
   ]
  },
  {
   "cell_type": "code",
   "execution_count": 28,
   "id": "f98334be",
   "metadata": {},
   "outputs": [
    {
     "name": "stdout",
     "output_type": "stream",
     "text": [
      "Training accuracy = 0.9958477103924206, validatioin accuracy = 0.9945029239766082\n",
      "Training f1 score = 0.9962483487450462, validatioin f1 score = 0.9950374828423609\n"
     ]
    }
   ],
   "source": [
    "SVM_rbf(xdata_train_select, ydata_train_select, 0.1, 1.0)"
   ]
  },
  {
   "cell_type": "code",
   "execution_count": 29,
   "id": "76e76bd7",
   "metadata": {},
   "outputs": [
    {
     "name": "stdout",
     "output_type": "stream",
     "text": [
      "Training accuracy = 0.9990057898122697, validatioin accuracy = 0.9936842105263158\n",
      "Training f1 score = 0.9991001005769943, validatioin f1 score = 0.9942869234024546\n"
     ]
    }
   ],
   "source": [
    "SVM_rbf(xdata_train_select, ydata_train_select, 0.1, 3.0)"
   ]
  },
  {
   "cell_type": "code",
   "execution_count": 30,
   "id": "7bb3cd10",
   "metadata": {},
   "outputs": [
    {
     "name": "stdout",
     "output_type": "stream",
     "text": [
      "Training accuracy = 0.7462717117960115, validatioin accuracy = 0.7091228070175438\n",
      "Training f1 score = 0.813088339831549, validatioin f1 score = 0.7915514206688458\n"
     ]
    }
   ],
   "source": [
    "SVM_rbf(xdata_train_select, ydata_train_select, 0.1, 50.0)"
   ]
  },
  {
   "cell_type": "code",
   "execution_count": 31,
   "id": "d416478a",
   "metadata": {},
   "outputs": [
    {
     "name": "stdout",
     "output_type": "stream",
     "text": [
      "Training accuracy = 0.9996198608105737, validatioin accuracy = 0.99953216374269\n",
      "Training f1 score = 0.9996556929840824, validatioin f1 score = 0.9995763609404787\n"
     ]
    }
   ],
   "source": [
    "SVM_rbf(xdata_train_select, ydata_train_select, 1.0, 1.0)"
   ]
  },
  {
   "cell_type": "code",
   "execution_count": 32,
   "id": "4f94dd81",
   "metadata": {},
   "outputs": [
    {
     "name": "stdout",
     "output_type": "stream",
     "text": [
      "Training accuracy = 0.9999707585238903, validatioin accuracy = 0.9992982456140351\n",
      "Training f1 score = 0.9999734304009352, validatioin f1 score = 0.9993719907891983\n"
     ]
    }
   ],
   "source": [
    "SVM_rbf(xdata_train_select, ydata_train_select, 1.0, 3.0)"
   ]
  },
  {
   "cell_type": "code",
   "execution_count": 33,
   "id": "ab11c27a",
   "metadata": {},
   "outputs": [
    {
     "name": "stdout",
     "output_type": "stream",
     "text": [
      "Training accuracy = 1.0, validatioin accuracy = 0.9614035087719298\n",
      "Training f1 score = 1.0, validatioin f1 score = 0.9662921348314606\n"
     ]
    }
   ],
   "source": [
    "SVM_rbf(xdata_train_select, ydata_train_select, 1.0, 50.0)"
   ]
  },
  {
   "cell_type": "markdown",
   "id": "b419e6a5",
   "metadata": {},
   "source": [
    "## Test"
   ]
  },
  {
   "cell_type": "code",
   "execution_count": 16,
   "id": "27a3dc0a",
   "metadata": {},
   "outputs": [],
   "source": [
    "def test_SVM_rbf(xdata_train_select, ydata_train_select, xdata_test_select, ydata_test_select, c, gamma):\n",
    "    \n",
    "    # Copy in case of overwrite\n",
    "    xdata_train = np.copy(xdata_train_select)    \n",
    "    ydata_train = np.copy(ydata_train_select)\n",
    "    xdata_test = np.copy(xdata_test_select)    \n",
    "    ydata_test = np.copy(ydata_test_select)\n",
    "    \n",
    "    # Shuffle data\n",
    "    p = np.random.permutation(xdata_train.shape[0])\n",
    "    xdata_train = xdata_train[p]\n",
    "    ydata_train = ydata_train[p]\n",
    "    \n",
    "    # Normalize dataset\n",
    "    # Create scaler object and fit to data\n",
    "    scaler = StandardScaler()\n",
    "    scaler.fit(xdata_train)\n",
    "    \n",
    "    # Apply scaler to data\n",
    "    xdata_train = scaler.transform(xdata_train)\n",
    "    xdata_test = scaler.transform(xdata_test)\n",
    "    \n",
    "    model = SVC(C = c, kernel='rbf', gamma = gamma)\n",
    "    model.fit(xdata_train, ydata_train)\n",
    "    \n",
    "    train_acc = model.score(xdata_train, ydata_train)\n",
    "    test_acc = model.score(xdata_test, ydata_test)\n",
    "    \n",
    "    train_score = f1_score(model.predict(xdata_train), ydata_train)\n",
    "    test_score = f1_score(model.predict(xdata_test), ydata_test)\n",
    "    \n",
    "    ydata_predict = model.predict(xdata_test)\n",
    "    \n",
    "    print('Training accuracy = {}, testing accuracy = {}'.format(train_acc, test_acc)) \n",
    "    print('Training f1 score = {}, testing f1 score = {}'.format(train_score, test_score)) \n",
    "    \n",
    "    \n",
    "    # Plot the confusion matrix\n",
    "    conf_matrix = confusion_matrix(ydata_test, ydata_predict)\n",
    "    plt.figure(figsize = (6, 6))\n",
    "    sns.heatmap(conf_matrix, annot = True, fmt = 'd', cmap = 'Blues')\n",
    "    plt.title(\"Confusion Matrix for SVM System with RBF kernel\")\n"
   ]
  },
  {
   "cell_type": "code",
   "execution_count": 34,
   "id": "472276a2",
   "metadata": {},
   "outputs": [
    {
     "name": "stdout",
     "output_type": "stream",
     "text": [
      "Training accuracy = 0.9997192851127538, testing accuracy = 0.9994541782653785\n",
      "Training f1 score = 0.9997457519386415, testing f1 score = 0.9995142329738658\n"
     ]
    },
    {
     "data": {
      "image/png": "[encoded data removed]",
      "text/plain": [
       "<Figure size 600x600 with 2 Axes>"
      ]
     },
     "metadata": {},
     "output_type": "display_data"
    }
   ],
   "source": [
    "test_SVM_rbf(xdata_train_select, ydata_train_select, xdata_test_select, ydata_test_select, 1.0, 1.0)"
   ]
  },
  {
   "cell_type": "code",
   "execution_count": null,
   "id": "207bef3d",
   "metadata": {},
   "outputs": [],
   "source": []
  }
 ],
 "metadata": {
  "kernelspec": {
   "display_name": "Python 3 (ipykernel)",
   "language": "python",
   "name": "python3"
  },
  "language_info": {
   "codemirror_mode": {
    "name": "ipython",
    "version": 3
   },
   "file_extension": ".py",
   "mimetype": "text/x-python",
   "name": "python",
   "nbconvert_exporter": "python",
   "pygments_lexer": "ipython3",
   "version": "3.9.13"
  }
 },
 "nbformat": 4,
 "nbformat_minor": 5
}
