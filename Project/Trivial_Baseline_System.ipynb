{
 "cells": [
  {
   "cell_type": "markdown",
   "id": "55ac5a22",
   "metadata": {},
   "source": [
    "# Trivial system & Baseline system\n",
    "\n",
    "Define reference systems and analysis\n",
    "\n",
    "Report required performance measures\n",
    "\n",
    "• F1-score \n",
    "• Accuracy\n",
    "\n",
    "## Import necessary library"
   ]
  },
  {
   "cell_type": "code",
   "execution_count": 16,
   "id": "1df5d1d2",
   "metadata": {},
   "outputs": [],
   "source": [
    "import numpy as np\n",
    "import pandas as pd\n",
    "import matplotlib.pyplot as plt\n",
    "import pandas as pd\n",
    "from sklearn.preprocessing import StandardScaler\n",
    "from sklearn.metrics import f1_score\n",
    "from sklearn.model_selection import train_test_split\n",
    "from sklearn.feature_selection import SelectKBest\n",
    "from sklearn.feature_selection import f_classif\n",
    "import warnings"
   ]
  },
  {
   "cell_type": "markdown",
   "id": "b71ce73d",
   "metadata": {},
   "source": [
    "## Get data from previous cvs file"
   ]
  },
  {
   "cell_type": "code",
   "execution_count": 28,
   "id": "dbf3400c",
   "metadata": {},
   "outputs": [
    {
     "name": "stdout",
     "output_type": "stream",
     "text": [
      "The shape of training xdata shape is (42748, 125)\n",
      "The shape of training ydata shape is (42748,)\n",
      "The shape of testing xdata shape is (18321, 125)\n",
      "The shape of testing ydata shape is (18321,)\n"
     ]
    }
   ],
   "source": [
    "def getData(fname1, fname2):\n",
    "    df_train = pd.read_csv(fname1)\n",
    "    df_test = pd.read_csv(fname2)\n",
    "    data_train = np.array(df_train)\n",
    "    data_test = np.array(df_test)\n",
    "    xdata_train = data_train[:,:len(data_train[0]) - 1]\n",
    "    ydata_train = data_train[:, -1]\n",
    "    xdata_test = data_test[:,:len(data_test[0]) - 1]\n",
    "    ydata_test = data_test[:, -1]\n",
    "    \n",
    "    return xdata_train, ydata_train, xdata_test, ydata_test\n",
    "    \n",
    "xdata_train_expand, ydata_train_expand, xdata_test_expand, ydata_test_expand = getData(\"mushroom_train_encode.csv\", \"mushroom_test_encode.csv\")\n",
    "# print(xdata_train_expand)\n",
    "print(f\"The shape of training xdata shape is\", xdata_train_expand.shape)\n",
    "print(f\"The shape of training ydata shape is\", ydata_train_expand.shape)\n",
    "print(f\"The shape of testing xdata shape is\", xdata_test_expand.shape)\n",
    "print(f\"The shape of testing ydata shape is\", ydata_test_expand.shape)"
   ]
  },
  {
   "cell_type": "markdown",
   "id": "30df68b1",
   "metadata": {},
   "source": [
    "## Trivial system\n",
    "A system that outputs class assignments (S0, S1) at random with probability N0/N and N1/N, respectively; Ni is the number of training data points with class label Si, and N is the total number of training data points."
   ]
  },
  {
   "cell_type": "code",
   "execution_count": 18,
   "id": "a4bf24af",
   "metadata": {},
   "outputs": [
    {
     "name": "stdout",
     "output_type": "stream",
     "text": [
      "P(S0) edible = 0.4480443529521849 and P(S1) poisonous = 0.5519556470478151\n",
      "The F1 Score of the trivial system = 0.5589720955323427\n",
      "The accuracy of the trivial system = 0.5091425140549096\n"
     ]
    }
   ],
   "source": [
    "def trival_sys(xdata_train, ydata_train, xdata_test, ydata_test):\n",
    "    po = np.sum(ydata_train == 1)    \n",
    "    ed = np.sum(ydata_train == 0)\n",
    "    N = len(ydata_train)\n",
    "    \n",
    "    ps0 = ed/N\n",
    "    ps1 = po/N\n",
    "    \n",
    "    print(f\"P(S0) edible = {ed/N} and P(S1) poisonous = {po/N}\")\n",
    "    \n",
    "    N_test = len(ydata_test)\n",
    "    ydata_test_pred = np.random.choice([0,1], size=N_test, p=[ps0, ps1])\n",
    "    \n",
    "    \n",
    "    # Report the F1 score and the accuracy\n",
    "    score = f1_score(ydata_test_pred, ydata_test)\n",
    "    print(f\"The F1 Score of the trivial system = {score}\")\n",
    "    \n",
    "    acc = np.sum(ydata_test_pred == ydata_test) / N_test\n",
    "    print(f\"The accuracy of the trivial system = {acc}\")\n",
    "    \n",
    "    \n",
    "trival_sys(xdata_train_expand, ydata_train_expand, xdata_test_expand, ydata_test_expand)"
   ]
  },
  {
   "cell_type": "markdown",
   "id": "58559b82",
   "metadata": {},
   "source": [
    "## Baseline system\n",
    "\n",
    "Nearest means classifier"
   ]
  },
  {
   "cell_type": "code",
   "execution_count": 50,
   "id": "432d2a47",
   "metadata": {},
   "outputs": [
    {
     "name": "stdout",
     "output_type": "stream",
     "text": [
      "The training F1 Score of nearest mean system on unnormalized data = 0.6160428397924257\n",
      "The training accuracy of nearest mean system on unnormalized data = 0.593251067313878\n",
      "The validation F1 Score of nearest mean system on unnormalized data = 0.6072910824453168\n",
      "The validation accuracy of nearest mean system on unnormalized data = 0.5905263157894737\n"
     ]
    }
   ],
   "source": [
    "def nearest_mean_classifier_unnormalize(xdata_train, ydata_train):\n",
    "    \n",
    "    # Copy the data in case overwrite\n",
    "    xdata_train = np.copy(xdata_train)\n",
    "    \n",
    "    # Split data\n",
    "    xdata_train, xdata_val, ydata_train, ydata_val = train_test_split(xdata_train, ydata_train, test_size=0.2, random_state=42)\n",
    "    \n",
    "    # Calculate mean values for two class using unnormalized value\n",
    "    mean_ed = np.mean(xdata_train[ydata_train == 0], axis = 0)\n",
    "    mean_po = np.mean(xdata_train[ydata_train == 1], axis = 0)\n",
    "\n",
    "    N_train = len(ydata_train)\n",
    "    N_val = len(ydata_val)\n",
    "    \n",
    "    # Train on the training data\n",
    "    ydata_train_pre = np.zeros(N_train)\n",
    "    \n",
    "    for i in range(N_train):\n",
    "        dist_ed = np.linalg.norm(xdata_train[i] - mean_ed)\n",
    "        dist_po = np.linalg.norm(xdata_train[i] - mean_po)\n",
    "        \n",
    "        # Classify the data to the nearest mean point's class\n",
    "        if(dist_ed < dist_po):\n",
    "            ydata_train_pre[i] = 0\n",
    "        else:\n",
    "            ydata_train_pre[i] = 1\n",
    "    \n",
    "    # Report the F1 score and the accuracy for the training data\n",
    "    score_train = f1_score(ydata_train_pre, ydata_train)\n",
    "    print(f\"The training F1 Score of nearest mean system on unnormalized data = {score_train}\")\n",
    "    \n",
    "    acc_train = np.sum(ydata_train_pre == ydata_train) / N_train\n",
    "    print(f\"The training accuracy of nearest mean system on unnormalized data = {acc_train}\")\n",
    "    \n",
    "    # Test on the validation data\n",
    "    ydata_val_pre = np.zeros(N_val)\n",
    "    for i in range(N_val):\n",
    "        dist_ed = np.linalg.norm(xdata_val[i] - mean_ed)\n",
    "        dist_po = np.linalg.norm(xdata_val[i] - mean_po)\n",
    "\n",
    "        # Classify the data to the nearest mean point's class\n",
    "        if(dist_ed < dist_po):\n",
    "            ydata_val_pre[i] = 0\n",
    "        else:\n",
    "            ydata_val_pre[i] = 1\n",
    "    \n",
    "    # Report the F1 score and the accuracy for the training data\n",
    "    score_val = f1_score(ydata_val_pre, ydata_val)\n",
    "    print(f\"The validation F1 Score of nearest mean system on unnormalized data = {score_val}\")\n",
    "    \n",
    "    acc_val = np.sum(ydata_val_pre == ydata_val) / N_val\n",
    "    print(f\"The validation accuracy of nearest mean system on unnormalized data = {acc_val}\")\n",
    "    \n",
    "nearest_mean_classifier_unnormalize(xdata_train_expand, ydata_train_expand)"
   ]
  },
  {
   "cell_type": "markdown",
   "id": "db742835",
   "metadata": {},
   "source": [
    "As we can see, the accuracy indicates that the nearest mean system on unnormalized dataset doesn't perform well. To compare with the baseline system, we experiment the nearest mean on normalized data."
   ]
  },
  {
   "cell_type": "code",
   "execution_count": 51,
   "id": "fab663fd",
   "metadata": {},
   "outputs": [
    {
     "name": "stdout",
     "output_type": "stream",
     "text": [
      "The training F1 Score of nearest mean system on normalized data = 0.711333019312294\n",
      "The training accuracy of nearest mean system on normalized data = 0.5519913445230715\n",
      "The validation F1 Score of nearest mean system on normalized data = 0.7111848055471811\n",
      "The validation accuracy of nearest mean system on normalized data = 0.551812865497076\n"
     ]
    },
    {
     "data": {
      "text/plain": [
       "(0.7111848055471811, 0.551812865497076)"
      ]
     },
     "execution_count": 51,
     "metadata": {},
     "output_type": "execute_result"
    }
   ],
   "source": [
    "def nearest_mean_classifier_normalize(xdata_train, ydata_train, printOrNot = True):\n",
    "#     print(xdata_train)\n",
    "#     print(xdata_train.shape)\n",
    "\n",
    "    # Copy the data in case overwrite\n",
    "    xdata_train = np.copy(xdata_train)\n",
    "    \n",
    "    # Shuffle data\n",
    "    p = np.random.permutation(xdata_train.shape[0])\n",
    "    xdata_train = xdata_train[p]\n",
    "    ydata_train = ydata_train[p]\n",
    "    \n",
    "    # Split data\n",
    "    xdata_train, xdata_val, ydata_train, ydata_val = train_test_split(xdata_train, ydata_train, test_size=0.2, random_state=42)\n",
    "    \n",
    "    # Create scaler object and fit to data\n",
    "    scaler = StandardScaler()\n",
    "    scaler.fit(xdata_train)\n",
    "    \n",
    "    # Apply scaler to data\n",
    "    xdata_train_scaled = scaler.transform(xdata_train)\n",
    "    xdata_val_scaled = scaler.transform(xdata_val)\n",
    "    \n",
    "    # Calculate mean values for two class using unnormalized value\n",
    "    mean_ed = np.mean(xdata_train_scaled[ydata_train == 0], axis = 0)\n",
    "    mean_po = np.mean(xdata_train_scaled[ydata_train == 0], axis = 0)\n",
    "#     print(mean_ed.shape)\n",
    "#     print(mean_ed)\n",
    "\n",
    "    N_train = len(ydata_train)\n",
    "    N_val = len(ydata_val)\n",
    "    \n",
    "    # Train on the training data\n",
    "    ydata_train_pre = np.zeros(N_train)\n",
    "    for i in range(N_train):\n",
    "        dist_ed = np.linalg.norm(xdata_train_scaled[i] - mean_ed)\n",
    "        dist_po = np.linalg.norm(xdata_train_scaled[i] - mean_po)\n",
    "        \n",
    "        # Classify the data to the nearest mean point's class\n",
    "        if(dist_ed < dist_po):\n",
    "            ydata_train_pre[i] = 0\n",
    "        else:\n",
    "            ydata_train_pre[i] = 1\n",
    "    \n",
    "    score_train = f1_score(ydata_train_pre, ydata_train)\n",
    "    acc_train = np.sum(ydata_train_pre == ydata_train) / N_train\n",
    "    \n",
    "    if(printOrNot):\n",
    "        # Report the F1 score and the accuracy for the training data\n",
    "        print(f\"The training F1 Score of nearest mean system on normalized data = {score_train}\")\n",
    "        print(f\"The training accuracy of nearest mean system on normalized data = {acc_train}\")\n",
    "\n",
    "    # Test on the validation data\n",
    "    ydata_val_pre = np.zeros(N_val)\n",
    "    for i in range(N_val):\n",
    "        dist_ed = np.linalg.norm(xdata_val_scaled[i] - mean_ed)\n",
    "        dist_po = np.linalg.norm(xdata_val_scaled[i] - mean_po)\n",
    "\n",
    "        # Classify the data to the nearest mean point's class\n",
    "        if(dist_ed < dist_po):\n",
    "            ydata_val_pre[i] = 0\n",
    "        else:\n",
    "            ydata_val_pre[i] = 1\n",
    "    \n",
    "    score_val = f1_score(ydata_val_pre, ydata_val)\n",
    "    acc_val = np.sum(ydata_val_pre == ydata_val) / N_val\n",
    "    if(printOrNot):\n",
    "        # Report the F1 score and the accuracy for the training data\n",
    "        print(f\"The validation F1 Score of nearest mean system on normalized data = {score_val}\")\n",
    "        print(f\"The validation accuracy of nearest mean system on normalized data = {acc_val}\")\n",
    "\n",
    "    return score_val, acc_val\n",
    "    \n",
    "    \n",
    "nearest_mean_classifier_normalize(xdata_train_expand, ydata_train_expand)"
   ]
  },
  {
   "cell_type": "markdown",
   "id": "7c7e649f",
   "metadata": {},
   "source": [
    "## Test"
   ]
  },
  {
   "cell_type": "code",
   "execution_count": 46,
   "id": "40a999f4",
   "metadata": {},
   "outputs": [
    {
     "name": "stdout",
     "output_type": "stream",
     "text": [
      "The testing F1 Score of nearest mean system on normalized data = 0.6989473684210525\n",
      "The testing accuracy of nearest mean system on normalized data = 0.6643742153812565\n"
     ]
    }
   ],
   "source": [
    "def test_nearest_mean_classifier_normalize(xdata_train, ydata_train, xdata_test, ydata_test):\n",
    "#     print(xdata_train)\n",
    "#     print(xdata_train.shape)\n",
    "\n",
    "    # Copy the data in case overwrite\n",
    "    xdata_train = np.copy(xdata_train)\n",
    "    xdata_test = np.copy(xdata_test)\n",
    "    \n",
    "    # Shuffle data\n",
    "    p = np.random.permutation(xdata_train.shape[0])\n",
    "    xdata_train = xdata_train[p]\n",
    "    ydata_train = ydata_train[p]\n",
    "    \n",
    "    # Create scaler object and fit to data\n",
    "    scaler = StandardScaler()\n",
    "    scaler.fit(xdata_train)\n",
    "    \n",
    "    # Apply scaler to data\n",
    "    xdata_train_scaled = scaler.transform(xdata_train)\n",
    "    xdata_test_scaled = scaler.transform(xdata_test)\n",
    "    \n",
    "    # Calculate mean values for two class using unnormalized value\n",
    "    mean_ed = np.mean(xdata_train_scaled[ydata_train == 0], axis = 0)\n",
    "    mean_po = np.mean(xdata_train_scaled[ydata_train == 1], axis = 0)\n",
    "#     print(mean_ed.shape)\n",
    "#     print(mean_ed)\n",
    "\n",
    "    N_train = len(ydata_train)\n",
    "    N_test = len(ydata_test)\n",
    "    \n",
    "    # Test on the testing data\n",
    "    ydata_test_pre = np.zeros(N_test)\n",
    "    for i in range(N_test):\n",
    "        dist_ed = np.linalg.norm(xdata_test_scaled[i] - mean_ed)\n",
    "        dist_po = np.linalg.norm(xdata_test_scaled[i] - mean_po)\n",
    "\n",
    "        # Classify the data to the nearest mean point's class\n",
    "        if(dist_ed < dist_po):\n",
    "            ydata_test_pre[i] = 0\n",
    "        else:\n",
    "            ydata_test_pre[i] = 1\n",
    "    \n",
    "    score_test = f1_score(ydata_test_pre, ydata_test)\n",
    "    acc_test = np.sum(ydata_test_pre == ydata_test) / N_test\n",
    "    \n",
    "    # Report the F1 score and the accuracy for the training data\n",
    "    print(f\"The testing F1 Score of nearest mean system on normalized data = {score_test}\")\n",
    "    print(f\"The testing accuracy of nearest mean system on normalized data = {acc_test}\")\n",
    "\n",
    "    \n",
    "test_nearest_mean_classifier_normalize(xdata_train_expand, ydata_train_expand,xdata_test_expand, ydata_test_expand)"
   ]
  },
  {
   "cell_type": "markdown",
   "id": "84abec4f",
   "metadata": {},
   "source": [
    "Obviously, the F1 score of model on normalized data is much better than the previous one. But there are still too many features that possibly worsen model performance. Therefore I decide to select k features in previous numerical data on the normalized data and take the best k value."
   ]
  },
  {
   "cell_type": "markdown",
   "id": "8e206c12",
   "metadata": {},
   "source": [
    "## Feature Selection or Reduction\n",
    "After the feature engineering step, the dataset will have a large number of features, which can slow down model runtime or possibly worsen model performance. It is important to remove some features (or reduce dimensionality of feature space some other way) and keep 𝑫′ < 𝑫 number of features that are more useful for the prediction task.\n",
    "Here we use univariate feature selection to reduce the dimension."
   ]
  },
  {
   "cell_type": "code",
   "execution_count": 52,
   "id": "1dee3633",
   "metadata": {},
   "outputs": [
    {
     "data": {
      "image/png": "[encoded data removed]",
      "text/plain": [
       "<Figure size 640x480 with 1 Axes>"
      ]
     },
     "metadata": {},
     "output_type": "display_data"
    },
    {
     "name": "stdout",
     "output_type": "stream",
     "text": [
      "The best performance k is 31\n"
     ]
    }
   ],
   "source": [
    "def feature_selection(xdata_train, ydata_train):\n",
    "    D = xdata_train.shape[1]\n",
    "    F1_total = np.zeros(D)\n",
    "    acc_total = np.zeros(D)\n",
    "\n",
    "    # ignore all UserWarning messages\n",
    "    warnings.filterwarnings('ignore', category=UserWarning)\n",
    "    warnings.filterwarnings('ignore', category=RuntimeWarning)\n",
    "    \n",
    "    epochs_num = 10\n",
    "\n",
    "    for epoch in range(epochs_num):\n",
    "        for k in range(D):\n",
    "            # f_classif: Compute the ANOVA F-value for the provided sample.\n",
    "            # Define feature selection\n",
    "            fs = SelectKBest(score_func=f_classif, k=k+1)\n",
    "\n",
    "            # Apply feature selection\n",
    "            xdata_train_selected = fs.fit_transform(xdata_train, ydata_train)\n",
    "\n",
    "            # Get each k value's f1 score and accuracy\n",
    "            f1_score, acc = nearest_mean_classifier_normalize(xdata_train_selected, ydata_train, False)\n",
    "\n",
    "            F1_total[k] += f1_score\n",
    "            acc_total[k] += acc\n",
    "        \n",
    "    for k in range(D):\n",
    "        F1_total[k] =  F1_total[k] / epochs_num\n",
    "        acc_total[k] = acc_total[k] / epochs_num\n",
    "\n",
    "    plt.title(\"F1 score & Accuracy vs k values\")\n",
    "    plt.plot(np.arange(D), F1_total, label = \"F1 score\")\n",
    "    plt.plot(np.arange(D), acc_total, label = \"Accuracy\")\n",
    "    plt.show()\n",
    "    print(f\"The best performance k is {np.argmax(F1_total) + 1}\")\n",
    "    \n",
    "feature_selection(xdata_train_expand, ydata_train_expand)"
   ]
  },
  {
   "cell_type": "markdown",
   "id": "2840c3a1",
   "metadata": {},
   "source": [
    "## Save the selected features as a new csv file"
   ]
  },
  {
   "cell_type": "code",
   "execution_count": 24,
   "id": "947f3d86",
   "metadata": {},
   "outputs": [],
   "source": [
    "def save_selected_data(xdata_train, ydata_train, xdata_test, ydata_test):\n",
    "    \n",
    "    fs = SelectKBest(score_func=f_classif, k=32)\n",
    "    \n",
    "    # Apply feature selection\n",
    "    xdata_train_selected = fs.fit_transform(xdata_train, ydata_train)\n",
    "    xdata_test_selected = fs.transform(xdata_test)\n",
    "\n",
    "    # Concatenate the training xdata and training ydata\n",
    "    data_train_selected = np.zeros((xdata_train_selected.shape[0],xdata_train_selected.shape[1]+1))\n",
    "    data_train_selected[:, :xdata_train_selected.shape[1]] = np.copy(xdata_train_selected)\n",
    "    data_train_selected[:,-1] = np.copy(ydata_train)\n",
    "\n",
    "    # Concatenate the training xdata and training ydata\n",
    "    data_test_selected = np.zeros((xdata_test_selected.shape[0],xdata_test_selected.shape[1]+1))\n",
    "    data_test_selected[:, :xdata_test_selected.shape[1]] = np.copy(xdata_test_selected)\n",
    "    data_test_selected[:,-1] = np.copy(ydata_test)\n",
    "\n",
    "    # Save the data to csv file\n",
    "    df_train = pd.DataFrame(data_train_selected)\n",
    "    df_train.to_csv('mushroom_train_select.csv', index=False)\n",
    "    df_test = pd.DataFrame(data_test_selected)\n",
    "    df_test.to_csv('mushroom_test_select.csv', index=False)"
   ]
  },
  {
   "cell_type": "code",
   "execution_count": 25,
   "id": "b2d91557",
   "metadata": {},
   "outputs": [],
   "source": [
    "save_selected_data(xdata_train_expand, ydata_train_expand, xdata_test_expand, ydata_test_expand)"
   ]
  }
 ],
 "metadata": {
  "kernelspec": {
   "display_name": "Python 3 (ipykernel)",
   "language": "python",
   "name": "python3"
  },
  "language_info": {
   "codemirror_mode": {
    "name": "ipython",
    "version": 3
   },
   "file_extension": ".py",
   "mimetype": "text/x-python",
   "name": "python",
   "nbconvert_exporter": "python",
   "pygments_lexer": "ipython3",
   "version": "3.9.13"
  }
 },
 "nbformat": 4,
 "nbformat_minor": 5
}
